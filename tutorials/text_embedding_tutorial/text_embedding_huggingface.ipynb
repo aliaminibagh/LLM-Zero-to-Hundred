{
  "cells": [
    {
      "cell_type": "markdown",
      "metadata": {
        "colab_type": "text",
        "id": "view-in-github"
      },
      "source": [
        "<a href=\"https://colab.research.google.com/github/Farzad-R/LLM-Zero-to-Hundred/blob/master/tutorials/vectorization_tutorial/vectorization_bge_large_zh_v1_5.ipynb\" target=\"_parent\"><img src=\"https://colab.research.google.com/assets/colab-badge.svg\" alt=\"Open In Colab\"/></a>"
      ]
    },
    {
      "cell_type": "markdown",
      "metadata": {
        "id": "aaIRpEYHdbn3"
      },
      "source": [
        "# text_vectorization_huggingface\n",
        "\n",
        "This notebook provides a comprehensive visualization of text vectorization and demonstrates the power of vector search in processing and understanding natural language data. Moreover, it demonstrates the main steps of RAG in a simplified format. </br>\n",
        "\n",
        "------------------------------------------------------------------------------------\n",
        "### Dependencies:\n",
        "To achieve our goals, we rely on the following libraries and models:\n",
        "\n",
        ">- **BAAI/bge-large-zh-v1.5**: This is the embedding model we use, which has an embedding dimension of 1024. It is designed to capture the semantic meaning of text in a high-dimensional space.\n",
        ">- **LLAMA 2 7b**\n",
        ">- **sklearn.metrics.pairwise.cosine_similarity**: : A function from the scikit-learn library that allows us to compute the similarity between vectors.\n",
        ">- **sklearn.decomposition.PCA**: Another scikit-learn tool that we use to perform Principal Component Analysis (PCA), reducing the dimensionality of our embeddings to 2 and 3 dimensions for visualization purposes.\n",
        ">- **matplotlib**: A plotting library that enables us to create 2D and 3D plots to visually represent our data.\n",
        ">- **mplcursors**: An interactive data cursor for matplotlib, which allows us to explore the plots more intuitively.\n",
        "------------------------------------------------------------------------------------\n",
        "### Content Overview:\n",
        "\n",
        "**I. [Define functions](#section_one)** </br>\n",
        "We define three key functions to streamline our analysis:\n",
        "\n",
        ">- plot_2D: A function to generate 2D plots of our vectorized text data.\n",
        ">- get_embedding: This function utilizes our embedding model to convert text into numerical vectors.\n",
        ">- compare: A utility to compare different text examples based on their vector representations.\n",
        "\n",
        "\n",
        "**II. [Define examples](#section_two)** </br>\n",
        ">- We introduce 12 examples spanning 4 distinct categories: animals, sports, modern society, and programming. These examples will serve as the basis for our vectorization and visualization.\n",
        "\n",
        "**III. [Embedding](#section_three)** </br>\n",
        ">- Here, we vectorize the examples using our chosen embedding model, transforming the text data into vectors.\n",
        "\n",
        "**IV. [Apply PCA](#section_four)** </br>\n",
        ">- We apply PCA to reduce the dimensionality of our embeddings from 1024 to 3 dimensions, making it possible to visualize the data in a lower-dimensional space.\n",
        "\n",
        "**V. [Plot 2D](#section_five)** </br>\n",
        ">- In this section, we create 2D plots of our examples to observe how text vectorization distinguishes between different categories.\n",
        "\n",
        "**VI. [Plot 3D](#section_six)** </br>\n",
        ">- We extend our visualization to 3D plots, providing another perspective on the separation between categories achieved through vectorization.\n",
        "\n",
        "**VII. [Computing cosine similarity](#section_seven)** </br>\n",
        ">- Finally, we compute the cosine similarity between selected examples to illustrate the effectiveness of vector search in identifying similar text data.\n",
        "------------------------------------------------------------------------------------\n",
        "\n",
        "#### Simple Retrieval Augmented Generation: (Main steps)\n",
        "\n",
        "I. [Step 1: Vectorize the user's query](#rag_1)\n",
        "\n",
        "II. [Step 2: Perfrom vector search between the user's query and the vector database](#rag_2) \n",
        "\n",
        "IV. [Step 3: Retrieve the top `n`` results.](#rag_3)\n",
        "\n",
        "V. [Step 4: Prepare the LLM's input using the retrieved content and the user's query](#rag_4)\n",
        "\n",
        "Extra. [Extra step for LLAMA: Prepare the model and its tokenizer](#rag_extra)\n",
        "\n",
        "VI. [Step 5: Pass the input to the LLM and get the response](#rag_5)\n",
        "\n",
        "------------------------------------------------------------------------------------\n",
        "\n",
        "Reference:\n",
        "[Deeplearning.ai](https://www.deeplearning.ai/courses/)"
      ]
    },
    {
      "cell_type": "markdown",
      "metadata": {},
      "source": [
        "**Install the necessary libraries**"
      ]
    },
    {
      "cell_type": "code",
      "execution_count": 1,
      "metadata": {
        "colab": {
          "base_uri": "https://localhost:8080/"
        },
        "id": "YIuHNjXpdCC8",
        "outputId": "ad157b41-b5ca-4459-8a85-adec224876d6"
      },
      "outputs": [],
      "source": [
        "# !pip install -q -U FlagEmbedding mplcursors ipympl"
      ]
    },
    {
      "cell_type": "markdown",
      "metadata": {},
      "source": [
        "**Load the libraries**"
      ]
    },
    {
      "cell_type": "code",
      "execution_count": 2,
      "metadata": {
        "id": "ljIRIIb_dz-9"
      },
      "outputs": [],
      "source": [
        "import numpy as np\n",
        "import matplotlib.pyplot as plt\n",
        "import mplcursors\n",
        "from sklearn.decomposition import PCA\n",
        "from typing import List\n",
        "from sklearn.metrics.pairwise import cosine_similarity\n",
        "from FlagEmbedding import FlagModel\n",
        "# from google.colab import output\n",
        "# output.enable_custom_widget_manager()\n",
        "\n",
        "# %matplotlib ipympl"
      ]
    },
    {
      "cell_type": "markdown",
      "metadata": {},
      "source": [
        "**Load the embedding model libraries**"
      ]
    },
    {
      "cell_type": "code",
      "execution_count": 3,
      "metadata": {
        "id": "LtKHp34qkUZB"
      },
      "outputs": [],
      "source": [
        "# Load embedding model\n",
        "embedding_model = FlagModel('BAAI/bge-large-zh-v1.5',\n",
        "                  query_instruction_for_retrieval=\"largest animal on the planet\",\n",
        "                  # use_fp16=True\n",
        "                  )\n",
        "# Setting use_fp16 to True speeds up computation with a slight performance degradation"
      ]
    },
    {
      "cell_type": "markdown",
      "metadata": {
        "id": "F5lYR-y0kA07"
      },
      "source": [
        "<a id=section_one></a>\n",
        "**Define functions**\n",
        "\n",
        "**Define functions:** plot_2D, get_embedding, compute_cosine_similarity"
      ]
    },
    {
      "cell_type": "code",
      "execution_count": 4,
      "metadata": {
        "id": "2Ktc7bgPePtO"
      },
      "outputs": [],
      "source": [
        "def plot_2D(x_values: List[float],\n",
        "            y_values: List[float],\n",
        "            labels: List[str]) -> None:\n",
        "    \"\"\"\n",
        "    Plots a 2D scatter plot with interactive annotations.\n",
        "\n",
        "    Parameters:\n",
        "    x_values (List[float]): A list of x-coordinates for each point.\n",
        "    y_values (List[float]): A list of y-coordinates for each point.\n",
        "    labels (List[str]): A list of labels for each point.\n",
        "    \"\"\"\n",
        "    # Create scatter plot\n",
        "    fig, ax = plt.subplots()\n",
        "    scatter = ax.scatter(x_values,\n",
        "                         y_values,\n",
        "                         alpha = 0.5,\n",
        "                         edgecolors='k',\n",
        "                         s = 40)\n",
        "\n",
        "    # Create a mplcursors object to manage the data point interaction\n",
        "    cursor = mplcursors.cursor(scatter, hover=True)\n",
        "\n",
        "    #aes\n",
        "    ax.set_title('Embedding visualization in 2D')  # Add a title\n",
        "    ax.set_xlabel('X_1')  # Add x-axis label\n",
        "    ax.set_ylabel('X_2')  # Add y-axis label\n",
        "\n",
        "    # Define how each annotation should look\n",
        "    @cursor.connect(\"add\")\n",
        "    def on_add(sel):\n",
        "        sel.annotation.set_text(labels[sel.target.index])\n",
        "        sel.annotation.get_bbox_patch().set(facecolor='white', alpha=0.5) # Set annotation's background color\n",
        "        sel.annotation.set_fontsize(12)\n",
        "\n",
        "    plt.show()\n",
        "\n",
        "def compute_cosine_similarity(embeddings: np.ndarray, idx1: int, idx2: int) -> float:\n",
        "    \"\"\"\n",
        "    Computes the cosine similarity between two embeddings.\n",
        "\n",
        "    Parameters:\n",
        "    embeddings (np.ndarray): An array of embeddings.\n",
        "    idx1 (int): The index of the first embedding.\n",
        "    idx2 (int): The index of the second embedding.\n",
        "\n",
        "    Returns:\n",
        "    float: The cosine similarity between the two embeddings.\n",
        "    \"\"\"\n",
        "    return cosine_similarity([embeddings[idx1]],[embeddings[idx2]])[0][0]\n"
      ]
    },
    {
      "cell_type": "markdown",
      "metadata": {
        "id": "AdD88J76kG1z"
      },
      "source": [
        "<a id=section_two></a>\n",
        "**Let's define 12 Examples in 4 different categories:**\n",
        "\n",
        "1. Animals\n",
        "2. Sport\n",
        "3. Moder society\n",
        "4. programming"
      ]
    },
    {
      "cell_type": "code",
      "execution_count": 5,
      "metadata": {
        "id": "jy001XVneX_D"
      },
      "outputs": [],
      "source": [
        "animal_sen_1 = \"Elephants are known for their exceptional memory and intelligence, often living in complex social structures.\"\n",
        "animal_sen_2 = \"The blue whale is the largest animal on the planet, with a heart the size of a small car.\"\n",
        "animal_sen_3 = \"Peregrine falcons are among the fastest birds, reaching over 200 miles per hour during their hunting stoop.\"\n",
        "\n",
        "\n",
        "sport_sen_1 = \"Soccer, known as football outside of North America, is the world's most popular sport, with a fan base that spans across continents.\"\n",
        "sport_sen_2 = \"The modern Olympic Games, revived in 1896, are a global event that brings together athletes from over 200 nations.\"\n",
        "sport_sen_3 = \"Serena Williams has dominated women's tennis with 23 Grand Slam singles titles, making her one of the greatest athletes of all time.\"\n",
        "\n",
        "\n",
        "modern_society_sen_1 = \"The advent of the internet has transformed modern society, enabling global connectivity and access to information at an unprecedented scale.\"\n",
        "modern_society_sen_2 = \"Climate change has become one of the most pressing issues of modern society, with a growing consensus on the need for sustainable practices.\"\n",
        "modern_society_sen_3 = \"Social media has reshaped the way we communicate and consume information, influencing everything from politics to personal relationships.\"\n",
        "\n",
        "\n",
        "programming_sen_1 = \"C++ programmers harness the power of low-level memory manipulation, crafting efficient and high-performance software for a variety of applications.\"\n",
        "programming_sen_2 = \"Java developers thrive in building platform-independent solutions, leveraging the language's 'write once, run anywhere' philosophy for versatile and scalable applications.\"\n",
        "programming_sen_3 = \"Python programmers embrace the language's readability and expressiveness, creating elegant and concise code that facilitates rapid development across diverse domains.\"\n",
        "\n",
        "\n",
        "\n",
        "# combine all the examples in one list\n",
        "all_input_text = [\n",
        "    animal_sen_1, animal_sen_2, animal_sen_3,\n",
        "    sport_sen_1, sport_sen_2, sport_sen_3,\n",
        "    modern_society_sen_1, modern_society_sen_2, modern_society_sen_3,\n",
        "    programming_sen_1, programming_sen_2, programming_sen_3\n",
        "    ]"
      ]
    },
    {
      "cell_type": "markdown",
      "metadata": {
        "id": "stbb7rhAkcKZ"
      },
      "source": [
        "<a id=section_three></a>\n",
        "\n",
        "**Apply Embedding**"
      ]
    },
    {
      "cell_type": "code",
      "execution_count": 6,
      "metadata": {
        "colab": {
          "base_uri": "https://localhost:8080/",
          "height": 90
        },
        "id": "9y4CJ1PadUtK",
        "outputId": "242c5f2f-14e7-42f7-f2a4-423cd0656f34"
      },
      "outputs": [
        {
          "name": "stdout",
          "output_type": "stream",
          "text": [
            "Shape: (12, 1024) \n",
            "\n",
            "Sample array: [-0.02002  -0.03128   0.007336 ... -0.02632   0.04      0.005062]\n"
          ]
        }
      ],
      "source": [
        "embeddings = []\n",
        "for input_text in all_input_text:\n",
        "    emb = embedding_model.encode(input_text)\n",
        "    embeddings.append(emb)\n",
        "\n",
        "embeddings_array = np.array(embeddings)\n",
        "print(\"Shape: \" + str(embeddings_array.shape), \"\\n\")\n",
        "print(\"Sample array:\", embeddings_array[0])"
      ]
    },
    {
      "cell_type": "markdown",
      "metadata": {
        "id": "3z7DBLprkeTM"
      },
      "source": [
        "<a id=section_four></a>\n",
        "\n",
        "**Apply PCA**"
      ]
    },
    {
      "cell_type": "code",
      "execution_count": 7,
      "metadata": {
        "colab": {
          "base_uri": "https://localhost:8080/"
        },
        "id": "gNxTMHcZexMQ",
        "outputId": "b6168a77-3e81-4b6b-c85e-42b36f3a489e"
      },
      "outputs": [
        {
          "name": "stdout",
          "output_type": "stream",
          "text": [
            "Shape: (12, 3)\n",
            "[[ 1.32987878e-01  3.21293401e-05  3.93101547e-01]\n",
            " [-2.40110051e-01 -2.71838178e-01  3.81716717e-01]\n",
            " [-2.66128707e-01 -4.97020401e-01  1.93336124e-01]\n",
            " [-2.74039750e-01  1.45482153e-04 -3.08123844e-01]\n",
            " [-3.32107814e-01  1.52627792e-01 -3.21267601e-01]\n",
            " [-3.41220194e-01 -3.42261836e-01 -3.02700247e-01]\n",
            " [-8.76011820e-02  4.31974578e-01  8.27265866e-03]\n",
            " [-7.51432054e-02  3.26959382e-01  2.51303228e-01]\n",
            " [-9.47505935e-02  4.90603396e-01  5.48221077e-02]\n",
            " [ 5.04575398e-01 -1.25323978e-01 -1.23010304e-01]\n",
            " [ 6.00591931e-01 -1.01946391e-01 -7.16819256e-02]\n",
            " [ 4.72946291e-01 -6.39519765e-02 -1.55768461e-01]]\n"
          ]
        }
      ],
      "source": [
        "# Perform PCA for reducing the dimension from 1024 to 3\n",
        "PCA_model = PCA(n_components=3)\n",
        "PCA_model.fit(embeddings_array)\n",
        "new_values = PCA_model.transform(embeddings_array)\n",
        "\n",
        "print(\"Shape: \" + str(new_values.shape))\n",
        "print(new_values)"
      ]
    },
    {
      "cell_type": "markdown",
      "metadata": {
        "id": "tfM7zHWskjcl"
      },
      "source": [
        "<a id=section_five></a>\n",
        "\n",
        "**2D plot**"
      ]
    },
    {
      "cell_type": "code",
      "execution_count": 8,
      "metadata": {
        "colab": {
          "base_uri": "https://localhost:8080/",
          "height": 605,
          "referenced_widgets": [
            "6882625659db443483df291121b29b76",
            "585a3e4a20174c999154fff2da672dad",
            "b59ddbe642694fee811495052ee5012a",
            "80c772edbda14260be51906216681f02"
          ]
        },
        "id": "OB57cDiLezqS",
        "outputId": "7400aa00-c71f-4c10-e288-bb75f4e96fc7"
      },
      "outputs": [
        {
          "data": {
            "image/png": "[encoded data removed]",
            "text/plain": [
              "<Figure size 640x480 with 1 Axes>"
            ]
          },
          "metadata": {},
          "output_type": "display_data"
        }
      ],
      "source": [
        "plot_2D(new_values[:,0], new_values[:,1], all_input_text)"
      ]
    },
    {
      "cell_type": "markdown",
      "metadata": {
        "id": "JZxhhOdAkkPT"
      },
      "source": [
        "<a id=section_six></a>\n",
        "\n",
        "**3D plot**"
      ]
    },
    {
      "cell_type": "code",
      "execution_count": 9,
      "metadata": {
        "colab": {
          "base_uri": "https://localhost:8080/",
          "height": 587,
          "referenced_widgets": [
            "ddf4c2ace49040a2a212e7e3eba42c6b",
            "6c8183b0453f4629b9f17aeae2dc580b",
            "8fbdbcf194f44cbf8bf90a96374f21de",
            "97738282ba73431bbdd563e435e4659d"
          ]
        },
        "id": "MRmgtxWBfJIJ",
        "outputId": "e58378d9-3fb0-496e-9bab-f7962c2167a4"
      },
      "outputs": [
        {
          "data": {
            "text/plain": [
              "<mpl_toolkits.mplot3d.art3d.Path3DCollection at 0x77446c041300>"
            ]
          },
          "execution_count": 9,
          "metadata": {},
          "output_type": "execute_result"
        },
        {
          "data": {
            "image/png": "[encoded data removed]",
            "text/plain": [
              "<Figure size 640x480 with 1 Axes>"
            ]
          },
          "metadata": {},
          "output_type": "display_data"
        }
      ],
      "source": [
        "fig = plt.figure()\n",
        "ax = plt.axes(projection='3d')\n",
        "ax.scatter3D(new_values[:, 0], new_values[:, 1], new_values[:, 2])"
      ]
    },
    {
      "cell_type": "markdown",
      "metadata": {},
      "source": [
        "<a id=section_seven></a>\n",
        "**Computing the cosine similarity**\n",
        "\n",
        "- animal_sen_1: 0, animal_sen_2: 1, animal_sen_3: 2 </br>\n",
        "- sport_sen_1: 3, sport_sen_2: 4, sport_sen_3: 5</br> \n",
        "- modern_society_sen_1: 6, modern_society_sen_2: 7, modern_society_sen_3: 8</br>\n",
        "- programming_sen_1: 9, programming_sen_2: 10, programming_sen_3: 11"
      ]
    },
    {
      "cell_type": "code",
      "execution_count": 10,
      "metadata": {
        "colab": {
          "base_uri": "https://localhost:8080/",
          "height": 90
        },
        "id": "qE3F_E95fw5K",
        "outputId": "4fe7f884-cc53-4565-a5a9-8d89a9f5f720"
      },
      "outputs": [
        {
          "name": "stdout",
          "output_type": "stream",
          "text": [
            "animal_sen_1 vs animal_sen_2: 0.47786547913806326\n",
            "animal_sen_1 vs programming_sen_1: 0.4458611797506079\n",
            "sport_sen_1 vs sport_sen_2: 0.6137819470269195\n",
            "sport_sen_1 vs programming_sen_11: 0.4300704474591385\n"
          ]
        }
      ],
      "source": [
        "print(\"animal_sen_1 vs animal_sen_2:\", compute_cosine_similarity(embeddings,0,1))\n",
        "print(\"animal_sen_1 vs programming_sen_1:\", compute_cosine_similarity(embeddings,0,10))\n",
        "print(\"sport_sen_1 vs sport_sen_2:\", compute_cosine_similarity(embeddings,3,4))\n",
        "print(\"sport_sen_1 vs programming_sen_11:\", compute_cosine_similarity(embeddings,3,11))"
      ]
    },
    {
      "cell_type": "markdown",
      "metadata": {},
      "source": [
        "## Simple RAG\n",
        "\n",
        "Let's consider `embeddings` list to be our Vector database and search a query over it and return the results "
      ]
    },
    {
      "cell_type": "markdown",
      "metadata": {},
      "source": [
        "<a id=rag_1></a>\n",
        "**Step 1: Vectorize the user's query** "
      ]
    },
    {
      "cell_type": "code",
      "execution_count": 11,
      "metadata": {},
      "outputs": [],
      "source": [
        "query = \"What are some remarkable characteristics of elephants?\"\n",
        "q_v = embedding_model.encode(query)"
      ]
    },
    {
      "cell_type": "code",
      "execution_count": 12,
      "metadata": {},
      "outputs": [
        {
          "data": {
            "text/plain": [
              "(1024,)"
            ]
          },
          "execution_count": 12,
          "metadata": {},
          "output_type": "execute_result"
        }
      ],
      "source": [
        "q_v.shape"
      ]
    },
    {
      "cell_type": "markdown",
      "metadata": {},
      "source": [
        "**First step: Vectorize the query**"
      ]
    },
    {
      "cell_type": "code",
      "execution_count": 13,
      "metadata": {},
      "outputs": [],
      "source": [
        "query = \"What are some remarkable characteristics of elephants?\"\n",
        "q_v = embedding_model.encode(query)"
      ]
    },
    {
      "cell_type": "markdown",
      "metadata": {},
      "source": [
        "<a id=rag_2></a>\n",
        "**Step 2: Perfrom vector search between the user's query and the vector database** "
      ]
    },
    {
      "cell_type": "code",
      "execution_count": 14,
      "metadata": {},
      "outputs": [
        {
          "name": "stdout",
          "output_type": "stream",
          "text": [
            "[0.6413002706883284, 0.45786956747389984, 0.3772262377368441, 0.3106508091461645, 0.2831243097670735, 0.2943195277834769, 0.35241393735317134, 0.3277439114657713, 0.3044749289910222, 0.3418285248640875, 0.29684250958193187, 0.40844835143209146]\n"
          ]
        }
      ],
      "source": [
        "def search(embeddings:List, q_v:List)->List[float]:\n",
        "    \"\"\"\n",
        "    Search for the cosine similarity scores between a query vector (q_v) and a list of embedding vectors.\n",
        "\n",
        "    Parameters:\n",
        "        embeddings (List[List[float]]): A list of embedding vectors.\n",
        "        q_v (List[float]): The query vector for which the cosine similarity scores are calculated.\n",
        "\n",
        "    Returns:\n",
        "        List[float]: A list of cosine similarity scores between the query vector and each embedding vector.\n",
        "    \"\"\"\n",
        "    scores = []\n",
        "    for vec in embeddings:\n",
        "        scores.append(cosine_similarity([vec], [q_v])[0][0])\n",
        "    return scores\n",
        "\n",
        "score_list = search(embeddings, q_v)\n",
        "print(score_list)"
      ]
    },
    {
      "cell_type": "markdown",
      "metadata": {},
      "source": [
        "<a id=rag_3></a>\n",
        "**Step 3: Retrieve the top `n` results.**"
      ]
    },
    {
      "cell_type": "code",
      "execution_count": 15,
      "metadata": {},
      "outputs": [
        {
          "name": "stdout",
          "output_type": "stream",
          "text": [
            "Elephants are known for their exceptional memory and intelligence, often living in complex social structures. \n",
            "\n",
            "The blue whale is the largest animal on the planet, with a heart the size of a small car. \n",
            "\n",
            "Python programmers embrace the language's readability and expressiveness, creating elegant and concise code that facilitates rapid development across diverse domains. \n",
            "\n"
          ]
        }
      ],
      "source": [
        "n = 3\n",
        "sorted_indices = np.argsort(score_list)[::-1]\n",
        "top_n_indices = sorted_indices[:n]\n",
        "top_n_indices\n",
        "\n",
        "retrieved_content = []\n",
        "for i in top_n_indices:\n",
        "    print(all_input_text[i], \"\\n\")\n",
        "    retrieved_content.append(all_input_text[i])"
      ]
    },
    {
      "cell_type": "code",
      "execution_count": 16,
      "metadata": {},
      "outputs": [
        {
          "data": {
            "text/plain": [
              "['Elephants are known for their exceptional memory and intelligence, often living in complex social structures.',\n",
              " 'The blue whale is the largest animal on the planet, with a heart the size of a small car.',\n",
              " \"Python programmers embrace the language's readability and expressiveness, creating elegant and concise code that facilitates rapid development across diverse domains.\"]"
            ]
          },
          "execution_count": 16,
          "metadata": {},
          "output_type": "execute_result"
        }
      ],
      "source": [
        "retrieved_content"
      ]
    },
    {
      "cell_type": "markdown",
      "metadata": {},
      "source": [
        "<a id=rag_4></a>\n",
        "\n",
        "**Step 4: Prepare the LLM's input using the retrieved content and the user's query**\n",
        "\n",
        "We want to Pass the retrieved content along with the user's query to a LLM to get the proper response. The role of the LLM is to see whether the retrieved content contain the answer to the user's question and provide a clean and organized response."
      ]
    },
    {
      "cell_type": "code",
      "execution_count": 17,
      "metadata": {},
      "outputs": [
        {
          "name": "stdout",
          "output_type": "stream",
          "text": [
            "# Your role:As a helpful chatbot, your role is to assist users by analyzing their questions alongside retrieved content.        Dispense answers exclusively from the provided content and refrain from incorporating personal knowledge if the answer is        absent in the retrieved information.\n",
            "\n",
            "# Retrieved content: ['Elephants are known for their exceptional memory and intelligence, often living in complex social structures.', 'The blue whale is the largest animal on the planet, with a heart the size of a small car.', \"Python programmers embrace the language's readability and expressiveness, creating elegant and concise code that facilitates rapid development across diverse domains.\"]\n",
            "\n",
            "# User's query: What are some remarkable characteristics of elephants?\n"
          ]
        }
      ],
      "source": [
        "llm_system_role = \"As a helpful chatbot, your role is to assist users by analyzing their questions alongside retrieved content.\\\n",
        "        Dispense answers exclusively from the provided content and refrain from incorporating personal knowledge if the answer is\\\n",
        "        absent in the retrieved information.\"\n",
        "prompt = f\"# Your role:{llm_system_role}\\n\\n# Retrieved content: {retrieved_content}\\n\\n# User's query: {query}\"\n",
        "print(prompt)\n"
      ]
    },
    {
      "cell_type": "markdown",
      "metadata": {},
      "source": [
        "<a id=rag_extra></a>\n",
        "\n",
        "**Extra step for LLAMA: Prepare the model and its tokenizer**\n",
        "\n",
        "* **NOTE:** Without quanitzation LLAMA2 7b requires minimum 24 GB of GPU memory. If you are running the model on colab, activate 8bit quantization."
      ]
    },
    {
      "cell_type": "code",
      "execution_count": null,
      "metadata": {},
      "outputs": [],
      "source": [
        "from huggingface_hub import notebook_login\n",
        "notebook_login()"
      ]
    },
    {
      "cell_type": "code",
      "execution_count": 19,
      "metadata": {},
      "outputs": [],
      "source": [
        "from transformers import (\n",
        "    AutoModelForCausalLM,\n",
        "    AutoTokenizer,\n",
        "    BitsAndBytesConfig,\n",
        "    AutoModelForCausalLM,\n",
        "    )\n",
        "import torch\n",
        "import warnings\n",
        "warnings.filterwarnings(\"ignore\")"
      ]
    },
    {
      "cell_type": "code",
      "execution_count": 20,
      "metadata": {},
      "outputs": [
        {
          "data": {
            "application/vnd.jupyter.widget-view+json": {
              "model_id": "51a0a2e48fc24ab4842b987196bad039",
              "version_major": 2,
              "version_minor": 0
            },
            "text/plain": [
              "Loading checkpoint shards:   0%|          | 0/2 [00:00<?, ?it/s]"
            ]
          },
          "metadata": {},
          "output_type": "display_data"
        }
      ],
      "source": [
        "tokenizer = AutoTokenizer.from_pretrained(\"sinarashidi/llama-2-7b-chat-persian\")\n",
        "model = AutoModelForCausalLM.from_pretrained(\"sinarashidi/llama-2-7b-chat-persian\")"
      ]
    },
    {
      "cell_type": "code",
      "execution_count": 21,
      "metadata": {},
      "outputs": [
        {
          "data": {
            "text/plain": [
              "'# Your role:As a helpful chatbot, your role is to assist users by analyzing their questions alongside retrieved content.        Dispense answers exclusively from the provided content and refrain from incorporating personal knowledge if the answer is        absent in the retrieved information.\\n\\n# Retrieved content: [\\'Elephants are known for their exceptional memory and intelligence, often living in complex social structures.\\', \\'The blue whale is the largest animal on the planet, with a heart the size of a small car.\\', \"Python programmers embrace the language\\'s readability and expressiveness, creating elegant and concise code that facilitates rapid development across diverse domains.\"]\\n\\n# User\\'s query: What are some remarkable characteristics of elephants?'"
            ]
          },
          "execution_count": 21,
          "metadata": {},
          "output_type": "execute_result"
        }
      ],
      "source": [
        "prompt"
      ]
    },
    {
      "cell_type": "code",
      "execution_count": 35,
      "metadata": {},
      "outputs": [],
      "source": [
        "tokens = tokenizer(prompt, return_tensors=\"pt\")"
      ]
    },
    {
      "cell_type": "code",
      "execution_count": 39,
      "metadata": {},
      "outputs": [
        {
          "data": {
            "text/plain": [
              "['<s>',\n",
              " '▁#',\n",
              " '▁Your',\n",
              " '▁role',\n",
              " ':',\n",
              " 'As',\n",
              " '▁a',\n",
              " '▁helpful',\n",
              " '▁chat',\n",
              " 'bot',\n",
              " ',',\n",
              " '▁your',\n",
              " '▁role',\n",
              " '▁is',\n",
              " '▁to',\n",
              " '▁assist',\n",
              " '▁users',\n",
              " '▁by',\n",
              " '▁analyz',\n",
              " 'ing',\n",
              " '▁their',\n",
              " '▁questions',\n",
              " '▁alongside',\n",
              " '▁retrieved',\n",
              " '▁content',\n",
              " '.',\n",
              " '▁▁▁▁▁▁▁',\n",
              " '▁Dis',\n",
              " 'p',\n",
              " 'ense',\n",
              " '▁answers',\n",
              " '▁exclus',\n",
              " 'ively',\n",
              " '▁from',\n",
              " '▁the',\n",
              " '▁provided',\n",
              " '▁content',\n",
              " '▁and',\n",
              " '▁ref',\n",
              " 'rain',\n",
              " '▁from',\n",
              " '▁incorpor',\n",
              " 'ating',\n",
              " '▁personal',\n",
              " '▁knowledge',\n",
              " '▁if',\n",
              " '▁the',\n",
              " '▁answer',\n",
              " '▁is',\n",
              " '▁▁▁▁▁▁▁',\n",
              " '▁absent',\n",
              " '▁in',\n",
              " '▁the',\n",
              " '▁retrieved',\n",
              " '▁information',\n",
              " '.',\n",
              " '<0x0A>',\n",
              " '<0x0A>',\n",
              " '#',\n",
              " '▁Retrieved',\n",
              " '▁content',\n",
              " ':',\n",
              " \"▁['\",\n",
              " 'E',\n",
              " 'le',\n",
              " 'ph',\n",
              " 'ants',\n",
              " '▁are',\n",
              " '▁known',\n",
              " '▁for',\n",
              " '▁their',\n",
              " '▁exception',\n",
              " 'al',\n",
              " '▁memory',\n",
              " '▁and',\n",
              " '▁intelligence',\n",
              " ',',\n",
              " '▁often',\n",
              " '▁living',\n",
              " '▁in',\n",
              " '▁complex',\n",
              " '▁social',\n",
              " '▁structures',\n",
              " '.',\n",
              " \"',\",\n",
              " \"▁'\",\n",
              " 'The',\n",
              " '▁blue',\n",
              " '▁wh',\n",
              " 'ale',\n",
              " '▁is',\n",
              " '▁the',\n",
              " '▁largest',\n",
              " '▁animal',\n",
              " '▁on',\n",
              " '▁the',\n",
              " '▁planet',\n",
              " ',',\n",
              " '▁with',\n",
              " '▁a',\n",
              " '▁heart',\n",
              " '▁the',\n",
              " '▁size',\n",
              " '▁of',\n",
              " '▁a',\n",
              " '▁small',\n",
              " '▁car',\n",
              " '.',\n",
              " \"',\",\n",
              " '▁\"',\n",
              " 'Python',\n",
              " '▁program',\n",
              " 'mers',\n",
              " '▁em',\n",
              " 'brace',\n",
              " '▁the',\n",
              " '▁language',\n",
              " \"'\",\n",
              " 's',\n",
              " '▁read',\n",
              " 'ability',\n",
              " '▁and',\n",
              " '▁express',\n",
              " 'iveness',\n",
              " ',',\n",
              " '▁creating',\n",
              " '▁elegant',\n",
              " '▁and',\n",
              " '▁conc',\n",
              " 'ise',\n",
              " '▁code',\n",
              " '▁that',\n",
              " '▁facil',\n",
              " 'it',\n",
              " 'ates',\n",
              " '▁rapid',\n",
              " '▁development',\n",
              " '▁across',\n",
              " '▁diverse',\n",
              " '▁domains',\n",
              " '.\"',\n",
              " ']',\n",
              " '<0x0A>',\n",
              " '<0x0A>',\n",
              " '#',\n",
              " '▁User',\n",
              " \"'\",\n",
              " 's',\n",
              " '▁query',\n",
              " ':',\n",
              " '▁What',\n",
              " '▁are',\n",
              " '▁some',\n",
              " '▁remarkable',\n",
              " '▁characteristics',\n",
              " '▁of',\n",
              " '▁ele',\n",
              " 'ph',\n",
              " 'ants',\n",
              " '?']"
            ]
          },
          "execution_count": 39,
          "metadata": {},
          "output_type": "execute_result"
        }
      ],
      "source": [
        "#show the generated text per token\n",
        "token_text = tokenizer.convert_ids_to_tokens(tokens[\"input_ids\"][0])\n",
        "token_text"
      ]
    },
    {
      "cell_type": "code",
      "execution_count": null,
      "metadata": {},
      "outputs": [],
      "source": [
        "output = model.generate(\n",
        "    **tokenizer(prompt)\n",
        ")"
      ]
    },
    {
      "cell_type": "code",
      "execution_count": null,
      "metadata": {},
      "outputs": [],
      "source": [
        "# to empty GPU memory (If needed)\n",
        "del embedding_model\n",
        "torch.cuda.empty_cache()"
      ]
    },
    {
      "cell_type": "code",
      "execution_count": 31,
      "metadata": {},
      "outputs": [],
      "source": [
        "llama_models = [\"NousResearch/Llama-2-13b-chat-hf\", \"NousResearch/Llama-2-7b-chat-hf\"]\n",
        "class LlamaModel:\n",
        "  def __init__(self, quant_eight=False, model=\"NousResearch/Llama-2-7b-chat-hf\"):\n",
        "    self.base_model = model\n",
        "    self.quant_eight=quant_eight\n",
        "    self.quant_eight_config=BitsAndBytesConfig(\n",
        "        load_in_8bit=True,\n",
        "        bnb_8bit_quant_type=\"nf8\",\n",
        "        bnb_8bit_compute_dtype=getattr(torch, \"float16\"),\n",
        "        bnb_8bit_use_double_quant=False,\n",
        "      )\n",
        "    self.llama_model = self.import_model()\n",
        "    self.tokenizer_padding_side=\"right\"\n",
        "    self.tokenizer = self.import_tokenizer()\n",
        "    print(\"\\nLlama2 and its tokenizer are loaded.\\n\")\n",
        "\n",
        "  def import_model(self):\n",
        "    if self.quant_eight:\n",
        "      print(f\"Importing 8bit {self.base_model} ...\\n\")\n",
        "      return AutoModelForCausalLM.from_pretrained(\n",
        "        self.base_model,\n",
        "        quantization_config=self.quant_eight_config,\n",
        "        device_map={\"\": 0},\n",
        "    )\n",
        "    else:\n",
        "      print(f\"Importing 16b {self.base_model} ...\\n\")\n",
        "      return AutoModelForCausalLM.from_pretrained(\n",
        "        self.base_model,\n",
        "        device_map={\"\": 0},\n",
        "    )\n",
        "\n",
        "  def import_tokenizer(self):\n",
        "    print(\"\\nImporting tokenizer ...\\n\")\n",
        "    return AutoTokenizer.from_pretrained(self.base_model, padding_side=self.tokenizer_padding_side)\n",
        "\n",
        "\n",
        "  def prepare_prompt_for_llama(self, prompt):\n",
        "    prompt = f\"<s>[INST] {prompt} [/INST]\"\n",
        "    return self.tokenizer(prompt, return_tensors=\"pt\")"
      ]
    },
    {
      "cell_type": "code",
      "execution_count": null,
      "metadata": {},
      "outputs": [],
      "source": [
        "llama_instance = LlamaModel(quant_eight=False)"
      ]
    },
    {
      "cell_type": "code",
      "execution_count": 20,
      "metadata": {},
      "outputs": [
        {
          "name": "stdout",
          "output_type": "stream",
          "text": [
            "['<s><s>[INST] # Your role:As a helpful chatbot, your role is to assist users by analyzing their questions alongside retrieved content.        Dispense answers exclusively from the provided content and refrain from incorporating personal knowledge if the answer is        absent in the retrieved information.\\n\\n# Retrieved content: [\\'Elephants are known for their exceptional memory and intelligence, often living in complex social structures.\\', \\'The blue whale is the largest animal on the planet, with a heart the size of a small car.\\', \"Python programmers embrace the language\\'s readability and expressiveness, creating elegant and concise code that facilitates rapid development across diverse domains.\"]\\n\\n# User\\'s query: What are some remarkable characteristics of elephants? [/INST]  Based on the retrieved content, here are some remarkable characteristics of elephants:\\n\\n1. Exceptional memory: Elephants are known for their exceptional memory, which allows them to remember and recall events, people, and places from their past.\\n2. Complex social structures: Elephants live in complex social structures, with females often forming close bonds and cooperating with each other, while males often engage in fierce battles for dominance.\\n\\nThese characteristics are supported by the retrieved content, which highlights elephants\\' exceptional memory and their complex social structures.</s>']\n"
          ]
        }
      ],
      "source": [
        "result = llama_instance.llama_model.generate(**llama_instance.prepare_prompt_for_llama(prompt).to(\"cuda\"), max_new_tokens=150)\n",
        "print(llama_instance.tokenizer.batch_decode(result))"
      ]
    },
    {
      "cell_type": "code",
      "execution_count": 21,
      "metadata": {},
      "outputs": [
        {
          "name": "stdout",
          "output_type": "stream",
          "text": [
            "Elephants are known for their exceptional memory and intelligence, often living in complex social structures.\n"
          ]
        }
      ],
      "source": [
        "print(animal_sen_1)"
      ]
    },
    {
      "cell_type": "markdown",
      "metadata": {},
      "source": [
        "LLAMA 7b Answer:"
      ]
    },
    {
      "cell_type": "markdown",
      "metadata": {},
      "source": [
        " Great! Based on the retrieved content, here are some remarkable characteristics of elephants:\\n\\n1. Exceptional memory: As mentioned in the content, elephants are known for their exceptional memory. They have been observed to remember their herd members, their social hierarchies, and even the location of watering holes and food sources.\\n2. Complex social structures: Elephants live in complex social structures, with females often forming close bonds with each other and males often forming bachelor groups. They have been observed to display empathy and cooperation within their social groups.\\n\\nI hope this helps! Let me know if you have any other questions."
      ]
    }
  ],
  "metadata": {
    "colab": {
      "authorship_tag": "ABX9TyPU5k9oZObAWzR4bplNIM/g",
      "include_colab_link": true,
      "provenance": []
    },
    "kernelspec": {
      "display_name": "Python 3",
      "name": "python3"
    },
    "language_info": {
      "codemirror_mode": {
        "name": "ipython",
        "version": 3
      },
      "file_extension": ".py",
      "mimetype": "text/x-python",
      "name": "python",
      "nbconvert_exporter": "python",
      "pygments_lexer": "ipython3",
      "version": "3.10.15"
    },
    "widgets": {
      "application/vnd.jupyter.widget-state+json": {
        "585a3e4a20174c999154fff2da672dad": {
          "model_module": "@jupyter-widgets/base",
          "model_module_version": "1.2.0",
          "model_name": "LayoutModel",
          "state": {
            "_model_module": "@jupyter-widgets/base",
            "_model_module_version": "1.2.0",
            "_model_name": "LayoutModel",
            "_view_count": null,
            "_view_module": "@jupyter-widgets/base",
            "_view_module_version": "1.2.0",
            "_view_name": "LayoutView",
            "align_content": null,
            "align_items": null,
            "align_self": null,
            "border": null,
            "bottom": null,
            "display": null,
            "flex": null,
            "flex_flow": null,
            "grid_area": null,
            "grid_auto_columns": null,
            "grid_auto_flow": null,
            "grid_auto_rows": null,
            "grid_column": null,
            "grid_gap": null,
            "grid_row": null,
            "grid_template_areas": null,
            "grid_template_columns": null,
            "grid_template_rows": null,
            "height": null,
            "justify_content": null,
            "justify_items": null,
            "left": null,
            "margin": null,
            "max_height": null,
            "max_width": null,
            "min_height": null,
            "min_width": null,
            "object_fit": null,
            "object_position": null,
            "order": null,
            "overflow": null,
            "overflow_x": null,
            "overflow_y": null,
            "padding": null,
            "right": null,
            "top": null,
            "visibility": null,
            "width": null
          }
        },
        "6882625659db443483df291121b29b76": {
          "model_module": "jupyter-matplotlib",
          "model_module_version": "^0.11",
          "model_name": "MPLCanvasModel",
          "state": {
            "_cursor": "default",
            "_data_url": "data:image/png;base64,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",
            "_dom_classes": [],
            "_figure_label": "Figure 4",
            "_image_mode": "diff",
            "_message": "",
            "_model_module": "jupyter-matplotlib",
            "_model_module_version": "^0.11",
            "_model_name": "MPLCanvasModel",
            "_rubberband_height": 0,
            "_rubberband_width": 0,
            "_rubberband_x": 0,
            "_rubberband_y": 0,
            "_size": [
              640,
              480
            ],
            "_view_count": null,
            "_view_module": "jupyter-matplotlib",
            "_view_module_version": "^0.11",
            "_view_name": "MPLCanvasView",
            "capture_scroll": false,
            "footer_visible": true,
            "header_visible": true,
            "layout": "IPY_MODEL_585a3e4a20174c999154fff2da672dad",
            "pan_zoom_throttle": 33,
            "resizable": true,
            "toolbar": "IPY_MODEL_b59ddbe642694fee811495052ee5012a",
            "toolbar_position": "left",
            "toolbar_visible": "fade-in-fade-out"
          }
        },
        "6c8183b0453f4629b9f17aeae2dc580b": {
          "model_module": "@jupyter-widgets/base",
          "model_module_version": "1.2.0",
          "model_name": "LayoutModel",
          "state": {
            "_model_module": "@jupyter-widgets/base",
            "_model_module_version": "1.2.0",
            "_model_name": "LayoutModel",
            "_view_count": null,
            "_view_module": "@jupyter-widgets/base",
            "_view_module_version": "1.2.0",
            "_view_name": "LayoutView",
            "align_content": null,
            "align_items": null,
            "align_self": null,
            "border": null,
            "bottom": null,
            "display": null,
            "flex": null,
            "flex_flow": null,
            "grid_area": null,
            "grid_auto_columns": null,
            "grid_auto_flow": null,
            "grid_auto_rows": null,
            "grid_column": null,
            "grid_gap": null,
            "grid_row": null,
            "grid_template_areas": null,
            "grid_template_columns": null,
            "grid_template_rows": null,
            "height": null,
            "justify_content": null,
            "justify_items": null,
            "left": null,
            "margin": null,
            "max_height": null,
            "max_width": null,
            "min_height": null,
            "min_width": null,
            "object_fit": null,
            "object_position": null,
            "order": null,
            "overflow": null,
            "overflow_x": null,
            "overflow_y": null,
            "padding": null,
            "right": null,
            "top": null,
            "visibility": null,
            "width": null
          }
        },
        "80c772edbda14260be51906216681f02": {
          "model_module": "@jupyter-widgets/base",
          "model_module_version": "1.2.0",
          "model_name": "LayoutModel",
          "state": {
            "_model_module": "@jupyter-widgets/base",
            "_model_module_version": "1.2.0",
            "_model_name": "LayoutModel",
            "_view_count": null,
            "_view_module": "@jupyter-widgets/base",
            "_view_module_version": "1.2.0",
            "_view_name": "LayoutView",
            "align_content": null,
            "align_items": null,
            "align_self": null,
            "border": null,
            "bottom": null,
            "display": null,
            "flex": null,
            "flex_flow": null,
            "grid_area": null,
            "grid_auto_columns": null,
            "grid_auto_flow": null,
            "grid_auto_rows": null,
            "grid_column": null,
            "grid_gap": null,
            "grid_row": null,
            "grid_template_areas": null,
            "grid_template_columns": null,
            "grid_template_rows": null,
            "height": null,
            "justify_content": null,
            "justify_items": null,
            "left": null,
            "margin": null,
            "max_height": null,
            "max_width": null,
            "min_height": null,
            "min_width": null,
            "object_fit": null,
            "object_position": null,
            "order": null,
            "overflow": null,
            "overflow_x": null,
            "overflow_y": null,
            "padding": null,
            "right": null,
            "top": null,
            "visibility": null,
            "width": null
          }
        },
        "8fbdbcf194f44cbf8bf90a96374f21de": {
          "model_module": "jupyter-matplotlib",
          "model_module_version": "^0.11",
          "model_name": "ToolbarModel",
          "state": {
            "_current_action": "",
            "_dom_classes": [],
            "_model_module": "jupyter-matplotlib",
            "_model_module_version": "^0.11",
            "_model_name": "ToolbarModel",
            "_view_count": null,
            "_view_module": "jupyter-matplotlib",
            "_view_module_version": "^0.11",
            "_view_name": "ToolbarView",
            "button_style": "",
            "collapsed": true,
            "layout": "IPY_MODEL_97738282ba73431bbdd563e435e4659d",
            "orientation": "vertical",
            "toolitems": [
              [
                "Home",
                "Reset original view",
                "home",
                "home"
              ],
              [
                "Back",
                "Back to previous view",
                "arrow-left",
                "back"
              ],
              [
                "Forward",
                "Forward to next view",
                "arrow-right",
                "forward"
              ],
              [
                "Pan",
                "Left button pans, Right button zooms\nx/y fixes axis, CTRL fixes aspect",
                "arrows",
                "pan"
              ],
              [
                "Zoom",
                "Zoom to rectangle\nx/y fixes axis",
                "square-o",
                "zoom"
              ],
              [
                "Download",
                "Download plot",
                "floppy-o",
                "save_figure"
              ]
            ]
          }
        },
        "97738282ba73431bbdd563e435e4659d": {
          "model_module": "@jupyter-widgets/base",
          "model_module_version": "1.2.0",
          "model_name": "LayoutModel",
          "state": {
            "_model_module": "@jupyter-widgets/base",
            "_model_module_version": "1.2.0",
            "_model_name": "LayoutModel",
            "_view_count": null,
            "_view_module": "@jupyter-widgets/base",
            "_view_module_version": "1.2.0",
            "_view_name": "LayoutView",
            "align_content": null,
            "align_items": null,
            "align_self": null,
            "border": null,
            "bottom": null,
            "display": null,
            "flex": null,
            "flex_flow": null,
            "grid_area": null,
            "grid_auto_columns": null,
            "grid_auto_flow": null,
            "grid_auto_rows": null,
            "grid_column": null,
            "grid_gap": null,
            "grid_row": null,
            "grid_template_areas": null,
            "grid_template_columns": null,
            "grid_template_rows": null,
            "height": null,
            "justify_content": null,
            "justify_items": null,
            "left": null,
            "margin": null,
            "max_height": null,
            "max_width": null,
            "min_height": null,
            "min_width": null,
            "object_fit": null,
            "object_position": null,
            "order": null,
            "overflow": null,
            "overflow_x": null,
            "overflow_y": null,
            "padding": null,
            "right": null,
            "top": null,
            "visibility": null,
            "width": null
          }
        },
        "b59ddbe642694fee811495052ee5012a": {
          "model_module": "jupyter-matplotlib",
          "model_module_version": "^0.11",
          "model_name": "ToolbarModel",
          "state": {
            "_current_action": "",
            "_dom_classes": [],
            "_model_module": "jupyter-matplotlib",
            "_model_module_version": "^0.11",
            "_model_name": "ToolbarModel",
            "_view_count": null,
            "_view_module": "jupyter-matplotlib",
            "_view_module_version": "^0.11",
            "_view_name": "ToolbarView",
            "button_style": "",
            "collapsed": true,
            "layout": "IPY_MODEL_80c772edbda14260be51906216681f02",
            "orientation": "vertical",
            "toolitems": [
              [
                "Home",
                "Reset original view",
                "home",
                "home"
              ],
              [
                "Back",
                "Back to previous view",
                "arrow-left",
                "back"
              ],
              [
                "Forward",
                "Forward to next view",
                "arrow-right",
                "forward"
              ],
              [
                "Pan",
                "Left button pans, Right button zooms\nx/y fixes axis, CTRL fixes aspect",
                "arrows",
                "pan"
              ],
              [
                "Zoom",
                "Zoom to rectangle\nx/y fixes axis",
                "square-o",
                "zoom"
              ],
              [
                "Download",
                "Download plot",
                "floppy-o",
                "save_figure"
              ]
            ]
          }
        },
        "ddf4c2ace49040a2a212e7e3eba42c6b": {
          "model_module": "jupyter-matplotlib",
          "model_module_version": "^0.11",
          "model_name": "MPLCanvasModel",
          "state": {
            "_cursor": "default",
            "_data_url": "data:image/png;base64,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",
            "_dom_classes": [],
            "_figure_label": "Figure 5",
            "_image_mode": "full",
            "_message": "",
            "_model_module": "jupyter-matplotlib",
            "_model_module_version": "^0.11",
            "_model_name": "MPLCanvasModel",
            "_rubberband_height": 0,
            "_rubberband_width": 0,
            "_rubberband_x": 0,
            "_rubberband_y": 0,
            "_size": [
              640,
              480
            ],
            "_view_count": null,
            "_view_module": "jupyter-matplotlib",
            "_view_module_version": "^0.11",
            "_view_name": "MPLCanvasView",
            "capture_scroll": false,
            "footer_visible": true,
            "header_visible": true,
            "layout": "IPY_MODEL_6c8183b0453f4629b9f17aeae2dc580b",
            "pan_zoom_throttle": 33,
            "resizable": true,
            "toolbar": "IPY_MODEL_8fbdbcf194f44cbf8bf90a96374f21de",
            "toolbar_position": "left",
            "toolbar_visible": "fade-in-fade-out"
          }
        }
      }
    }
  },
  "nbformat": 4,
  "nbformat_minor": 0
}
